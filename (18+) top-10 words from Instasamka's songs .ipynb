{
 "cells": [
  {
   "cell_type": "markdown",
   "id": "5c873a7e",
   "metadata": {},
   "source": [
    "## (18+) Нахождение топ-10 слов в её песнях с помощью инструментов обработки естественного языка. \n",
    "### провел исследование: Киселев Илья"
   ]
  },
  {
   "cell_type": "markdown",
   "id": "d84bd358",
   "metadata": {},
   "source": [
    "Воспользуемся парой библиотек."
   ]
  },
  {
   "cell_type": "code",
   "execution_count": 1,
   "id": "d8791353",
   "metadata": {},
   "outputs": [],
   "source": [
    "from collections import Counter\n",
    "import pandas as pd\n",
    "import matplotlib.pyplot as plt\n",
    "import nltk\n",
    "from nltk.corpus import stopwords\n",
    "import squarify\n",
    "from natasha import (\n",
    "    Segmenter,\n",
    "    MorphVocab,\n",
    "    \n",
    "    NewsEmbedding,\n",
    "    NewsMorphTagger,\n",
    "    NewsSyntaxParser,\n",
    "    NewsNERTagger,\n",
    "    \n",
    "    PER,\n",
    "    LOC,\n",
    "    NamesExtractor,\n",
    "    DatesExtractor,\n",
    "    MoneyExtractor,\n",
    "    AddrExtractor,\n",
    "    Doc\n",
    ")\n",
    "\n",
    "segmenter = Segmenter()\n",
    "morph_vocab = MorphVocab()\n",
    "\n",
    "emb = NewsEmbedding()\n",
    "morph_tagger = NewsMorphTagger(emb)\n",
    "syntax_parser = NewsSyntaxParser(emb)\n",
    "ner_tagger = NewsNERTagger(emb)\n",
    "\n",
    "names_extractor = NamesExtractor(morph_vocab)\n",
    "dates_extractor = DatesExtractor(morph_vocab)\n",
    "money_extractor = MoneyExtractor(morph_vocab)\n",
    "addr_extractor = AddrExtractor(morph_vocab)"
   ]
  },
  {
   "cell_type": "markdown",
   "id": "68cd3b38",
   "metadata": {},
   "source": [
    "Откроем файл, где содержатся все тексты песен Инстасамки."
   ]
  },
  {
   "cell_type": "code",
   "execution_count": 2,
   "id": "2e93d710",
   "metadata": {},
   "outputs": [],
   "source": [
    "file = open('analys_instasamka.txt')\n",
    "text = file.read()"
   ]
  },
  {
   "cell_type": "markdown",
   "id": "730589ee",
   "metadata": {},
   "source": [
    "### Описание функций из библиотеки Natasha для анализа текста и определение задачи.\n",
    "\n",
    "Задача - разбить слова на токены, а также найти синонимы. \\\n",
    "Использумые функции: \\\n",
    "1. segmenter: разделяет текст на токены и предложения, определяет свойства токенов. \\\n",
    "2. morph_tagger: для каждого токена извлеките теги с богатой морфологией. \\\n",
    "3. syntax_parser: для каждого предложения запускайте синтаксический анализатор. "
   ]
  },
  {
   "cell_type": "code",
   "execution_count": 3,
   "id": "d5ceb9ce",
   "metadata": {},
   "outputs": [],
   "source": [
    "doc = Doc(text)\n",
    "doc.segment(segmenter) \n",
    "doc.tag_morph(morph_tagger)\n",
    "doc.parse_syntax(syntax_parser)"
   ]
  },
  {
   "cell_type": "code",
   "execution_count": 4,
   "id": "f1246b78",
   "metadata": {},
   "outputs": [
    {
     "data": {
      "text/plain": [
       "[DocToken(stop=3, text='Сто', id='1_1', head_id='1_568', rel='nsubj', pos='NUM', feats=<Nom>),\n",
       " DocToken(start=4, stop=6, text='из', id='1_2', head_id='1_437', rel='case', pos='ADP'),\n",
       " DocToken(start=7, stop=10, text='ста', id='1_3', head_id='1_262', rel='nmod', pos='NUM', feats=<Gen>),\n",
       " DocToken(start=10, stop=11, text=',', id='1_4', head_id='1_254', rel='punct', pos='PUNCT'),\n",
       " DocToken(start=12, stop=17, text='Samka', id='1_5', head_id='1_663', rel='nsubj', pos='PROPN', feats=<Yes>)]"
      ]
     },
     "metadata": {},
     "output_type": "display_data"
    }
   ],
   "source": [
    "display(doc.tokens[:5])"
   ]
  },
  {
   "cell_type": "code",
   "execution_count": 5,
   "id": "7a9c105d",
   "metadata": {},
   "outputs": [],
   "source": [
    "for token in doc.tokens:\n",
    "    token.lemmatize(morph_vocab)"
   ]
  },
  {
   "cell_type": "markdown",
   "id": "e6ee1808",
   "metadata": {},
   "source": [
    "Теперь запишем все синонимы токенов в отдельную переменную, и уже над ней будем проводить очситку и анализ."
   ]
  },
  {
   "cell_type": "code",
   "execution_count": 6,
   "id": "eba707d0",
   "metadata": {},
   "outputs": [],
   "source": [
    "lemmas = [_.lemma for _ in doc.tokens]"
   ]
  },
  {
   "cell_type": "markdown",
   "id": "57d76e6d",
   "metadata": {},
   "source": [
    "Предварительная очистка слов от знаков препинания и некоторых стоп-слов."
   ]
  },
  {
   "cell_type": "code",
   "execution_count": 7,
   "id": "4d1d372b",
   "metadata": {},
   "outputs": [],
   "source": [
    "i=0\n",
    "lemmas_precorrected = []\n",
    "while i < len(lemmas):\n",
    "    if (lemmas[i] != ',') and (lemmas[i] != '—') and (lemmas[i] != ')') and (lemmas[i] != '(') \\\n",
    "    and (lemmas[i] != 'я') and  (lemmas[i] != 'на') and  (lemmas[i] != 'на') and  (lemmas[i] != '!') \\\n",
    "    and  (lemmas[i] != 'на')  and  (lemmas[i] != 'весь')  and  (lemmas[i] != 'это')  and  (lemmas[i] != 'твой') \\\n",
    "    and  (lemmas[i] != '?') and  (lemmas[i] != '’') and  (lemmas[i] != 'свой') and  (lemmas[i] != 'эй') \\\n",
    "    and  (lemmas[i] != ':') and  (lemmas[i] != '«') and (lemmas[i] != '»') and (lemmas[i] != '.') and (lemmas[i] != '?!'):\n",
    "        lemmas_precorrected.append(lemmas[i])\n",
    "        i += 1\n",
    "    else:\n",
    "        i += 1"
   ]
  },
  {
   "cell_type": "markdown",
   "id": "74192414",
   "metadata": {},
   "source": [
    "Очистка данных от стоп-слов из пакета ntlk."
   ]
  },
  {
   "cell_type": "code",
   "execution_count": 8,
   "id": "5b94b5c4",
   "metadata": {},
   "outputs": [],
   "source": [
    "russian_stopwords = set(stopwords.words(\"russian\"))\n",
    "def remove_stopwords(tokens):\n",
    "    cleaned_tokens = []\n",
    "    for token in tokens:\n",
    "        if token not in russian_stopwords:\n",
    "            cleaned_tokens.append(token)\n",
    "    return cleaned_tokens\n",
    "lemmas_corrected = remove_stopwords(lemmas_precorrected)"
   ]
  },
  {
   "cell_type": "markdown",
   "id": "19d64c00",
   "metadata": {},
   "source": [
    "Теперь, когда у нас есть токены, мы можем приступить к самому простому анализу. \\\n",
    "Подсчитаем количество слов через Counter. \\\n",
    "Выведем топ-10 популярных слов. "
   ]
  },
  {
   "cell_type": "code",
   "execution_count": 9,
   "id": "0378536a",
   "metadata": {
    "scrolled": false
   },
   "outputs": [
    {
     "data": {
      "text/plain": [
       "[('bitch', 209),\n",
       " ('money', 201),\n",
       " ('сука', 184),\n",
       " ('деньга', 156),\n",
       " ('mommy', 108),\n",
       " ('мама', 101),\n",
       " ('доллар', 101),\n",
       " ('купить', 99),\n",
       " ('знать', 87),\n",
       " ('делать', 79)]"
      ]
     },
     "execution_count": 9,
     "metadata": {},
     "output_type": "execute_result"
    }
   ],
   "source": [
    "def word_counter(tokens):\n",
    "    word_counts = Counter()\n",
    "    word_counts.update(tokens)\n",
    "    return word_counts \n",
    "\n",
    "word_count = word_counter(lemmas_corrected)\n",
    "word_count.most_common(10)"
   ]
  },
  {
   "cell_type": "markdown",
   "id": "16adc391",
   "metadata": {},
   "source": [
    "На гистограме отобразим частоту появления слов в треках инстасамки."
   ]
  },
  {
   "cell_type": "code",
   "execution_count": 10,
   "id": "d994713b",
   "metadata": {},
   "outputs": [
    {
     "data": {
      "image/png": "[encoded data removed]",
      "text/plain": [
       "<Figure size 1440x720 with 1 Axes>"
      ]
     },
     "metadata": {
      "needs_background": "light"
     },
     "output_type": "display_data"
    }
   ],
   "source": [
    "x = list(word_count.keys())[:15]\n",
    "y = list(word_count.values())[:15]\n",
    "plt.figure(figsize=(20, 10))\n",
    "plt.bar(x, y)\n",
    "plt.xlabel('Слова', fontsize=18)\n",
    "plt.show();"
   ]
  },
  {
   "cell_type": "markdown",
   "id": "55a5af30",
   "metadata": {},
   "source": [
    "Количество слов может быть полезно, но обычно требуется более глубокий анализ, \n",
    "отвечающий на наши вопросы, особенно когда данные состоят не из одного документа. \n",
    "\n",
    "Мы можем создать таблицу, создав Pandas DataFrame, содержащий функции, возвращающие: \n",
    "1. Количество токенов.\n",
    "2. Их ранг по частотности употребления по отношению к другим токенам. \n",
    "3. Процент токенов от общего состава документа. "
   ]
  },
  {
   "cell_type": "code",
   "execution_count": 11,
   "id": "c0b7ceeb",
   "metadata": {
    "scrolled": true
   },
   "outputs": [
    {
     "data": {
      "text/html": [
       "<div>\n",
       "<style scoped>\n",
       "    .dataframe tbody tr th:only-of-type {\n",
       "        vertical-align: middle;\n",
       "    }\n",
       "\n",
       "    .dataframe tbody tr th {\n",
       "        vertical-align: top;\n",
       "    }\n",
       "\n",
       "    .dataframe thead th {\n",
       "        text-align: right;\n",
       "    }\n",
       "</style>\n",
       "<table border=\"1\" class=\"dataframe\">\n",
       "  <thead>\n",
       "    <tr style=\"text-align: right;\">\n",
       "      <th></th>\n",
       "      <th>word</th>\n",
       "      <th>count</th>\n",
       "      <th>rank</th>\n",
       "      <th>pct_total</th>\n",
       "    </tr>\n",
       "  </thead>\n",
       "  <tbody>\n",
       "    <tr>\n",
       "      <th>16</th>\n",
       "      <td>bitch</td>\n",
       "      <td>209</td>\n",
       "      <td>1.0</td>\n",
       "      <td>0.015143</td>\n",
       "    </tr>\n",
       "    <tr>\n",
       "      <th>514</th>\n",
       "      <td>money</td>\n",
       "      <td>201</td>\n",
       "      <td>2.0</td>\n",
       "      <td>0.014563</td>\n",
       "    </tr>\n",
       "    <tr>\n",
       "      <th>45</th>\n",
       "      <td>сука</td>\n",
       "      <td>184</td>\n",
       "      <td>3.0</td>\n",
       "      <td>0.013331</td>\n",
       "    </tr>\n",
       "    <tr>\n",
       "      <th>42</th>\n",
       "      <td>деньга</td>\n",
       "      <td>156</td>\n",
       "      <td>4.0</td>\n",
       "      <td>0.011303</td>\n",
       "    </tr>\n",
       "    <tr>\n",
       "      <th>654</th>\n",
       "      <td>mommy</td>\n",
       "      <td>108</td>\n",
       "      <td>5.0</td>\n",
       "      <td>0.007825</td>\n",
       "    </tr>\n",
       "    <tr>\n",
       "      <th>198</th>\n",
       "      <td>доллар</td>\n",
       "      <td>101</td>\n",
       "      <td>7.0</td>\n",
       "      <td>0.007318</td>\n",
       "    </tr>\n",
       "    <tr>\n",
       "      <th>167</th>\n",
       "      <td>мама</td>\n",
       "      <td>101</td>\n",
       "      <td>6.0</td>\n",
       "      <td>0.007318</td>\n",
       "    </tr>\n",
       "    <tr>\n",
       "      <th>170</th>\n",
       "      <td>купить</td>\n",
       "      <td>99</td>\n",
       "      <td>8.0</td>\n",
       "      <td>0.007173</td>\n",
       "    </tr>\n",
       "    <tr>\n",
       "      <th>104</th>\n",
       "      <td>знать</td>\n",
       "      <td>87</td>\n",
       "      <td>9.0</td>\n",
       "      <td>0.006303</td>\n",
       "    </tr>\n",
       "    <tr>\n",
       "      <th>214</th>\n",
       "      <td>делать</td>\n",
       "      <td>79</td>\n",
       "      <td>10.0</td>\n",
       "      <td>0.005724</td>\n",
       "    </tr>\n",
       "  </tbody>\n",
       "</table>\n",
       "</div>"
      ],
      "text/plain": [
       "       word  count  rank  pct_total\n",
       "16    bitch    209   1.0   0.015143\n",
       "514   money    201   2.0   0.014563\n",
       "45     сука    184   3.0   0.013331\n",
       "42   деньга    156   4.0   0.011303\n",
       "654   mommy    108   5.0   0.007825\n",
       "198  доллар    101   7.0   0.007318\n",
       "167    мама    101   6.0   0.007318\n",
       "170  купить     99   8.0   0.007173\n",
       "104   знать     87   9.0   0.006303\n",
       "214  делать     79  10.0   0.005724"
      ]
     },
     "execution_count": 11,
     "metadata": {},
     "output_type": "execute_result"
    }
   ],
   "source": [
    "temp = list(zip(word_count.keys(), word_count.values()))\n",
    "wc = pd.DataFrame(temp, columns = ['word', 'count'])\n",
    "wc['rank'] = wc['count'].rank(method='first', ascending=False)\n",
    "total = wc['count'].sum()\n",
    "wc['pct_total'] = wc['count'].apply(lambda x: x / total)\n",
    "wc.sort_values('count', ascending=False).iloc[:10]"
   ]
  },
  {
   "cell_type": "markdown",
   "id": "5b3b17e4",
   "metadata": {},
   "source": [
    "Как видно из стобцов count and rank самым популярным словом является 'bitch'."
   ]
  },
  {
   "cell_type": "markdown",
   "id": "c4ca612c",
   "metadata": {},
   "source": [
    "Построим Cureemap, где уже наглядно будут видны популярные слова."
   ]
  },
  {
   "cell_type": "code",
   "execution_count": 12,
   "id": "9359f264",
   "metadata": {},
   "outputs": [
    {
     "data": {
      "image/png": "[encoded data removed]",
      "text/plain": [
       "<Figure size 1152x864 with 1 Axes>"
      ]
     },
     "metadata": {
      "needs_background": "light"
     },
     "output_type": "display_data"
    }
   ],
   "source": [
    "some_colors = ['#D2691E', '#7b04ab', '#87CEFA','#0000FF','#008080'\\\n",
    "              ,'#2F4F4F','#ab2493','#FFEFD5','#4B0082','#006400' \\\n",
    "              ,'#FFFF00','#7FFF00','#B22222','#FF8C00', '#3c548c']\n",
    "\n",
    "fig = plt.gcf()\n",
    "ax = fig.add_subplot()\n",
    "fig.set_size_inches(16, 12)\n",
    "\n",
    "wc_top20 = wc[wc['rank'] <= 10]\n",
    "squarify.plot(sizes=wc_top20['pct_total'], label=wc_top20['word'], \\\n",
    "        color=some_colors, \\\n",
    "        alpha=1, \\\n",
    "        text_kwargs={'fontsize':25})\n",
    "plt.title(\"Топ-10 слов в песнях Инстасамки\",fontsize=23,fontweight=\"bold\")\n",
    "plt.axis('off')\n",
    "plt.show();"
   ]
  },
  {
   "cell_type": "markdown",
   "id": "0d3649f7",
   "metadata": {},
   "source": [
    "С помощью визуализации получилось представить, какие слова популярны."
   ]
  }
 ],
 "metadata": {
  "kernelspec": {
   "display_name": "Python 3 (ipykernel)",
   "language": "python",
   "name": "python3"
  },
  "language_info": {
   "codemirror_mode": {
    "name": "ipython",
    "version": 3
   },
   "file_extension": ".py",
   "mimetype": "text/x-python",
   "name": "python",
   "nbconvert_exporter": "python",
   "pygments_lexer": "ipython3",
   "version": "3.9.7"
  }
 },
 "nbformat": 4,
 "nbformat_minor": 5
}
